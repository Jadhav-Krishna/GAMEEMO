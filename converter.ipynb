{
 "cells": [
  {
   "cell_type": "markdown",
   "metadata": {},
   "source": [
    "Unhealthy data ka mean nikalne ke liye.\n"
   ]
  },
  {
   "cell_type": "code",
   "execution_count": 13,
   "metadata": {},
   "outputs": [
    {
     "name": "stdout",
     "output_type": "stream",
     "text": [
      "Mean values have been saved to 'C:\\Users\\ASUS\\OneDrive\\Desktop\\GAMEEMO\\unhealthy\\healthcare-dataset-stroke-data1.csv'\n"
     ]
    }
   ],
   "source": [
    "import pandas as pd\n",
    "\n",
    "# File paths\n",
    "file_path = r'C:\\Users\\ASUS\\OneDrive\\Desktop\\GAMEEMO\\unhealthy\\healthcare-dataset-stroke-data.csv'\n",
    "output_file = r'C:\\Users\\ASUS\\OneDrive\\Desktop\\GAMEEMO\\unhealthy\\healthcare-dataset-stroke-data1.csv'\n",
    "\n",
    "df = pd.read_csv(file_path)\n",
    "mean_values = df.select_dtypes(include='number').mean()  # Select only numeric columns\n",
    "\n",
    "# Save the mean values to a new file\n",
    "mean_values.to_csv(output_file, header=['Mean'], index_label='Column')\n",
    "\n",
    "print(f\"Mean values have been saved to '{output_file}'\")"
   ]
  },
  {
   "cell_type": "markdown",
   "metadata": {},
   "source": [
    "Merge all the files and then find the mean ."
   ]
  },
  {
   "cell_type": "code",
   "execution_count": null,
   "metadata": {},
   "outputs": [],
   "source": [
    "import pandas as pd\n",
    "\n",
    "base_path = 'C:/Users/ASUS/OneDrive/Desktop/GAMEEMO/'\n",
    "\n",
    "for i in range(1, 28 + 1):\n",
    "    signal = f\"S{i:02}\"\n",
    "    mean_data_frames = []\n",
    "\n",
    "    for group_number in range(1, 4 + 1):\n",
    "        group = f\"G{group_number}\"\n",
    "        mean_file_path = f'{base_path}({signal})/Preprocessed EEG Data/.csv format/mean_{signal}{group}.csv'\n",
    "        \n",
    "        try:\n",
    "            mean_data = pd.read_csv(mean_file_path, index_col=0)\n",
    "            mean_data_frames.append(mean_data)\n",
    "        except FileNotFoundError:\n",
    "            print(f\"File not found: {mean_file_path}\")\n",
    "            continue\n",
    "\n",
    "    if mean_data_frames:\n",
    "        combined_means = pd.concat(mean_data_frames, axis=1) \n",
    "        final_mean = combined_means.mean(axis=1) \n",
    "\n",
    "        final_mean.to_csv(f'{base_path}({signal})/Preprocessed EEG Data/.csv format/final_mean_{signal}.csv', header=['Final Mean'])\n",
    "        print(f\"Final mean values for {signal} have been saved to 'final_mean_{signal}.csv'.\")\n",
    "    else:\n",
    "        print(f\"No mean files found for {signal}.\")\n"
   ]
  },
  {
   "cell_type": "markdown",
   "metadata": {},
   "source": [
    "Sari files ka mean add kar ke ek new file ko add kar dega."
   ]
  },
  {
   "cell_type": "code",
   "execution_count": null,
   "metadata": {},
   "outputs": [],
   "source": [
    "# Sari files ka mean add kar ke ek new file ko add kar dega. \n",
    "import pandas as pd\n",
    "for i in range(1, 28 + 1):\n",
    "    for group_number in range(1, 4 + 1):\n",
    "        signal = f\"S{i:02}\"\n",
    "        group = f\"G{group_number}\"\n",
    "        file_path = f'C:/Users/ASUS/OneDrive/Desktop/GAMEEMO/({signal})/Preprocessed EEG Data/.csv format/{signal}{group}AllChannels.csv'\n",
    "        mean_values = pd.read_csv(file_path).mean()\n",
    "        mean_values.to_csv(f'C:/Users/ASUS/OneDrive/Desktop/GAMEEMO/({signal})/Preprocessed EEG Data/.csv format/mean_{signal}{group}.csv', header=['Mean'])\n",
    "        print(f\"Mean values have been saved to 'mean_{signal}{group}.csv'\") "
   ]
  },
  {
   "cell_type": "markdown",
   "metadata": {},
   "source": [
    "finding the mean for the csv files\n"
   ]
  },
  {
   "cell_type": "code",
   "execution_count": null,
   "metadata": {},
   "outputs": [],
   "source": [
    "import pandas as pd\n",
    "\n",
    "# Load the CSV file\n",
    "file_path = 'C:/Users/ASUS/OneDrive/Desktop/GAMEEMO/(S01)/Preprocessed EEG Data/.csv format/S01G1AllChannels.csv'\n",
    "\n",
    "\n",
    "# Calculate the mean values\n",
    "mean_values = pd.read_csv(file_path).mean()\n",
    "\n",
    "# Save the mean values to a new CSV file\n",
    "mean_values.to_csv('C:/Users/ASUS/OneDrive/Desktop/GAMEEMO/(S01)/Preprocessed EEG Data/.csv format/mean_values.csv', header=['Mean'])\n",
    "\n",
    "print(\"Mean values have been saved to 'mean_values.csv'\")\n"
   ]
  },
  {
   "cell_type": "markdown",
   "metadata": {},
   "source": [
    "loop for the signals and the groups\n"
   ]
  },
  {
   "cell_type": "code",
   "execution_count": null,
   "metadata": {},
   "outputs": [],
   "source": [
    " \n",
    "for i in range(1, 28 + 1):  # Loop over signals (S01, S02, ...)\n",
    "        for group_number in range(1, 4 + 1):  # Loop over groups (G1, G2, ...)\n",
    "            signal = f\"S{i:02}\"  # Format as S01, S02, etc.\n",
    "            group = f\"G{group_number}\" \n",
    "            file_name = f\"{signal}{group}AllChannels.csv\" \n",
    "            print(file_name) "
   ]
  }
 ],
 "metadata": {
  "kernelspec": {
   "display_name": "Python 3",
   "language": "python",
   "name": "python3"
  },
  "language_info": {
   "codemirror_mode": {
    "name": "ipython",
    "version": 3
   },
   "file_extension": ".py",
   "mimetype": "text/x-python",
   "name": "python",
   "nbconvert_exporter": "python",
   "pygments_lexer": "ipython3",
   "version": "3.12.3"
  }
 },
 "nbformat": 4,
 "nbformat_minor": 2
}
